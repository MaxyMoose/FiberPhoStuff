{
 "cells": [
  {
   "cell_type": "code",
   "execution_count": 4,
   "metadata": {},
   "outputs": [],
   "source": [
    "import os\n",
    "\n",
    "dir = r\"C:\\Users\\maxma\\OneDrive\\Desktop\\Shared Fiber Pho\\FiberPhoStuff\\data\"\n",
    "bpa = []\n",
    "for root, dirs, files in os.walk(dir):\n",
    "        for file in files:\n",
    "            if file.endswith(\".tev\"):\n",
    "                  bpa.append(root)"
   ]
  },
  {
   "cell_type": "code",
   "execution_count": 5,
   "metadata": {},
   "outputs": [
    {
     "data": {
      "text/plain": [
       "['C:\\\\Users\\\\maxma\\\\OneDrive\\\\Desktop\\\\Shared Fiber Pho\\\\FiberPhoStuff\\\\data\\\\Vision02-240222-112005',\n",
       " 'C:\\\\Users\\\\maxma\\\\OneDrive\\\\Desktop\\\\Shared Fiber Pho\\\\FiberPhoStuff\\\\data\\\\Vision02-240222-135600']"
      ]
     },
     "execution_count": 5,
     "metadata": {},
     "output_type": "execute_result"
    }
   ],
   "source": [
    "bpa"
   ]
  },
  {
   "cell_type": "code",
   "execution_count": null,
   "metadata": {},
   "outputs": [],
   "source": [
    "# raw signal from grbda and iso channels \n",
    "TRANGE = [-10, 30] # window size [start time relative to epoc onset, window duration]\n",
    "BASELINE_PER = [-10, -6] # baseline period within our window\n",
    "ARTIFACT = float(\"inf\")\n",
    "ymin = -7\n",
    "ymax = 7\n",
    "fig = plt.figure(figsize=(9, 20))\n",
    "# increase spacing between subplots\n",
    "fig.subplots_adjust(hspace=0.7)\n",
    "for idx, event_code in enumerate([37,34]):\n",
    "    trs = get_time_ranges(prtb, values=[event_code])\n",
    "    filtered_csp_trs = modify_time_ranges(prtb, TRANGE, trs)\n",
    "    filtered_grbda = get_filtered_stream_data(grbda, filtered_csp_trs)\n",
    "    filtered_iso = get_filtered_stream_data(iso, filtered_csp_trs)\n",
    "    min1 = np.min([np.size(x) for x in filtered_grbda])\n",
    "    min2 = np.min([np.size(x) for x in filtered_iso])\n",
    "    # filtered_grbda = [x[1:min1] for x in filtered_grbda]\n",
    "    # filtered_iso = [x[1:min2] for x in filtered_iso]\n",
    "\n",
    "    # Downsample and average 10x via a moving window mean\n",
    "    N = 10 # Average every 10 samples into 1 value\n",
    "    F405 = []\n",
    "    F465 = []\n",
    "    for lst in filtered_iso:\n",
    "        small_lst = []\n",
    "        for i in range(0, min2, N):\n",
    "            small_lst.append(np.mean(lst[i:i+N-1])) # This is the moving window mean\n",
    "        F405.append(small_lst)\n",
    "\n",
    "    for lst in filtered_grbda: \n",
    "        small_lst = []\n",
    "        for i in range(0, min1, N):\n",
    "            small_lst.append(np.mean(lst[i:i+N-1]))\n",
    "        F465.append(small_lst)\n",
    "\n",
    "\n",
    "    #Create a mean signal, standard error of signal, and DC offset\n",
    "    meanF405 = np.mean(F405, axis=0)\n",
    "    stdF405 = np.std(F405, axis=0)/np.sqrt(len(filtered_iso))\n",
    "    dcF405 = np.mean(meanF405)\n",
    "    meanF465 = np.mean(F465, axis=0)\n",
    "    stdF465 = np.std(F465, axis=0)/np.sqrt(len(filtered_grbda))\n",
    "    dcF465 = np.mean(meanF465)\n",
    "\n",
    "    # Create the time vector for each stream store\n",
    "    ts1 = TRANGE[0] + np.linspace(1, len(meanF465), len(meanF465))/grbda.fs*N\n",
    "    ts2 = TRANGE[0] + np.linspace(1, len(meanF405), len(meanF405))/iso.fs*N\n",
    "\n",
    "    # Subtract DC offset to get signals on top of one another\n",
    "    meanF405 = meanF405 - dcF405\n",
    "    meanF465 = meanF465 - dcF465\n",
    "\n",
    "    # Start making a figure with 4 subplots\n",
    "    ax0 = fig.add_subplot(5, 1, idx+1)\n",
    "\n",
    "    # Plotting the traces\n",
    "    p1, = ax0.plot(ts1, meanF465, linewidth=2, color='green', label='GrbDA')\n",
    "    p2, = ax0.plot(ts2, meanF405, linewidth=2, color='blueviolet', label='ISO')\n",
    "\n",
    "    # Plotting standard error bands\n",
    "    p3 = ax0.fill_between(ts1, meanF465+stdF465, meanF465-stdF465,\n",
    "                          facecolor='green', alpha=0.2)\n",
    "    #p4 = ax0.fill_between(ts2, meanF405+stdF405, meanF405-stdF405,\n",
    "     #                     facecolor='blueviolet', alpha=0.2)\n",
    "\n",
    "    # Plotting a line at t = 0 and t = 10\n",
    "    p5 = ax0.axvline(x=0, linewidth=3, color='slategray', label='Cue Onset')\n",
    "    p6 = ax0.axvline(x=10, linewidth=3, color='lightblue', label='Reward Delivery')\n",
    "\n",
    "    # Finish up the plot\n",
    "    ax0.set_xlabel('Seconds')\n",
    "    ax0.set_ylabel('Signal (mV)')\n",
    "    ax0.set_title('GFPG vs ISOS')\n",
    "    ax0.legend(handles=[p1, p2, p5, p6], loc='upper right')\n",
    "    # to set range based on minimum and maximum values in sample. created graphs with huge ranges\n",
    "    # ax0.set_ylim(min(np.min(meanF465-stdF465), np.min(meanF405-stdF405)),\n",
    "    #             max(np.max(meanF465+stdF465), np.max(meanF405+stdF405)))\n",
    "    ax0.set_ylim(ymin,\n",
    "                 ymax)\n",
    "    ax0.set_xlim(TRANGE[0], TRANGE[1]+TRANGE[0])"
   ]
  }
 ],
 "metadata": {
  "kernelspec": {
   "display_name": ".venv",
   "language": "python",
   "name": "python3"
  },
  "language_info": {
   "codemirror_mode": {
    "name": "ipython",
    "version": 3
   },
   "file_extension": ".py",
   "mimetype": "text/x-python",
   "name": "python",
   "nbconvert_exporter": "python",
   "pygments_lexer": "ipython3",
   "version": "3.12.2"
  }
 },
 "nbformat": 4,
 "nbformat_minor": 2
}
