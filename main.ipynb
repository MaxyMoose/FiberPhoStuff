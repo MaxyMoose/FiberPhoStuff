{
 "cells": [
  {
   "cell_type": "code",
   "execution_count": 4,
   "metadata": {},
   "outputs": [],
   "source": [
    "import os\n",
    "\n",
    "dir = r\"C:\\Users\\maxma\\OneDrive\\Desktop\\Shared Fiber Pho\\FiberPhoStuff\\data\"\n",
    "bpa = []\n",
    "for root, dirs, files in os.walk(dir):\n",
    "        for file in files:\n",
    "            if file.endswith(\".tev\"):\n",
    "                  bpa.append(root)"
   ]
  },
  {
   "cell_type": "code",
   "execution_count": 5,
   "metadata": {},
   "outputs": [
    {
     "data": {
      "text/plain": [
       "['C:\\\\Users\\\\maxma\\\\OneDrive\\\\Desktop\\\\Shared Fiber Pho\\\\FiberPhoStuff\\\\data\\\\Vision02-240222-112005',\n",
       " 'C:\\\\Users\\\\maxma\\\\OneDrive\\\\Desktop\\\\Shared Fiber Pho\\\\FiberPhoStuff\\\\data\\\\Vision02-240222-135600']"
      ]
     },
     "execution_count": 5,
     "metadata": {},
     "output_type": "execute_result"
    }
   ],
   "source": [
    "bpa"
   ]
  },
  {
   "cell_type": "code",
   "execution_count": 2,
   "metadata": {},
   "outputs": [
    {
     "ename": "ModuleNotFoundError",
     "evalue": "No module named 'pydantic'",
     "output_type": "error",
     "traceback": [
      "\u001b[1;31m---------------------------------------------------------------------------\u001b[0m",
      "\u001b[1;31mModuleNotFoundError\u001b[0m                       Traceback (most recent call last)",
      "Cell \u001b[1;32mIn[2], line 3\u001b[0m\n\u001b[0;32m      1\u001b[0m \u001b[38;5;28;01mimport\u001b[39;00m \u001b[38;5;21;01mnumpy\u001b[39;00m \u001b[38;5;28;01mas\u001b[39;00m \u001b[38;5;21;01mnp\u001b[39;00m\n\u001b[0;32m      2\u001b[0m \u001b[38;5;28;01mfrom\u001b[39;00m \u001b[38;5;21;01mmatplotlib\u001b[39;00m \u001b[38;5;28;01mimport\u001b[39;00m pyplot \u001b[38;5;28;01mas\u001b[39;00m plt\n\u001b[1;32m----> 3\u001b[0m \u001b[38;5;28;01mfrom\u001b[39;00m \u001b[38;5;21;01mbta\u001b[39;00m \u001b[38;5;28;01mimport\u001b[39;00m \u001b[38;5;241m*\u001b[39m\n",
      "File \u001b[1;32mc:\\Users\\Daniel\\Desktop\\max_bta\\FiberPhoStuff\\bta\\__init__.py:1\u001b[0m\n\u001b[1;32m----> 1\u001b[0m \u001b[38;5;28;01mfrom\u001b[39;00m \u001b[38;5;21;01m.\u001b[39;00m\u001b[38;5;21;01m_types\u001b[39;00m \u001b[38;5;28;01mimport\u001b[39;00m TDTData, AllowedEvtypes\n\u001b[0;32m      2\u001b[0m \u001b[38;5;28;01mfrom\u001b[39;00m \u001b[38;5;21;01m.\u001b[39;00m\u001b[38;5;21;01mloaders\u001b[39;00m \u001b[38;5;28;01mimport\u001b[39;00m read_block\n\u001b[0;32m      3\u001b[0m \u001b[38;5;28;01mfrom\u001b[39;00m \u001b[38;5;21;01m.\u001b[39;00m\u001b[38;5;21;01manalysis\u001b[39;00m \u001b[38;5;28;01mimport\u001b[39;00m get_time_ranges, get_filtered_stream_data, modify_time_ranges\n",
      "File \u001b[1;32mc:\\Users\\Daniel\\Desktop\\max_bta\\FiberPhoStuff\\bta\\_types.py:2\u001b[0m\n\u001b[0;32m      1\u001b[0m \u001b[38;5;28;01mfrom\u001b[39;00m \u001b[38;5;21;01mre\u001b[39;00m \u001b[38;5;28;01mimport\u001b[39;00m A\n\u001b[1;32m----> 2\u001b[0m \u001b[38;5;28;01mfrom\u001b[39;00m \u001b[38;5;21;01mpydantic\u001b[39;00m \u001b[38;5;28;01mimport\u001b[39;00m BaseModel\n\u001b[0;32m      3\u001b[0m \u001b[38;5;28;01mfrom\u001b[39;00m \u001b[38;5;21;01menum\u001b[39;00m \u001b[38;5;28;01mimport\u001b[39;00m StrEnum, Enum, IntEnum\n\u001b[0;32m      4\u001b[0m \u001b[38;5;28;01mfrom\u001b[39;00m \u001b[38;5;21;01mtyping\u001b[39;00m \u001b[38;5;28;01mimport\u001b[39;00m Union, List, Dict, Tuple, Literal, TypeAlias, Any\n",
      "\u001b[1;31mModuleNotFoundError\u001b[0m: No module named 'pydantic'"
     ]
    }
   ],
   "source": [
    "import numpy as np\n",
    "from matplotlib import pyplot as plt\n",
    "from bta import *"
   ]
  },
  {
   "cell_type": "code",
   "execution_count": null,
   "metadata": {},
   "outputs": [],
   "source": [
    "from os import read\n",
    "import tdt\n",
    "data = read_block('C:\\\\Users\\\\maxma\\\\OneDrive\\\\Desktop\\\\Shared Fiber Pho\\\\FiberPhoStuff\\\\data\\\\Vision02-240222-112005')\n",
    "tdt_data = tdt.read_block('C:\\\\Users\\\\maxma\\\\OneDrive\\\\Desktop\\\\Shared Fiber Pho\\\\FiberPhoStuff\\\\data\\\\Vision02-240222-112005')\n",
    "set(tdt_data.epocs[\"PrtA\"].data.tolist())"
   ]
  },
  {
   "cell_type": "code",
   "execution_count": null,
   "metadata": {},
   "outputs": [],
   "source": [
    "prta = data.get_epoc(\"PrtA\")\n",
    "prtb = data.get_epoc(\"PrtB\")\n",
    "fi2i = data.get_scalar(\"Fi2i\")\n",
    "fi2d = data.get_stream(\"Fi2d\")\n",
    "fi2r = data.get_stream(\"Fi2r\")\n",
    "gfp = data.get_stream(\"GFPG\")\n",
    "iso = data.get_stream(\"ISOG\")\n",
    "prta.onset = tdt_data.epocs.PrtA.onset\n",
    "prta.offset = tdt_data.epocs.PrtA.offset\n",
    "prta.data = tdt_data.epocs.PrtA.data\n",
    "gfp.data = tdt_data.streams.GFPG.data\n",
    "iso.data = tdt_data.streams.ISOG.data"
   ]
  },
  {
   "cell_type": "code",
   "execution_count": null,
   "metadata": {},
   "outputs": [],
   "source": [
    "from bta._types import TDTEpoc, TDTStream\n",
    "\n",
    "def get_data(epoc: TDTEpoc, event_code: list[int], gfp: TDTStream, iso: TDTStream, TRANGE: tuple[int, int]):\n",
    "    trs = get_time_ranges(prtb, values=event_code)\n",
    "    filtered_csp_trs = modify_time_ranges(epoc, TRANGE, trs)\n",
    "    filtered_grbda = get_filtered_stream_data(gfp, filtered_csp_trs)\n",
    "    filtered_iso = get_filtered_stream_data(iso, filtered_csp_trs)\n",
    "    min1 = np.min([np.size(x) for x in filtered_grbda])\n",
    "    min2 = np.min([np.size(x) for x in filtered_iso])\n",
    "    # filtered_grbda = [x[1:min1] for x in filtered_grbda]\n",
    "    # filtered_iso = [x[1:min2] for x in filtered_iso]\n",
    "\n",
    "    # Downsample and average 10x via a moving window mean\n",
    "    N = 10 # Average every 10 samples into 1 value\n",
    "    F405 = []\n",
    "    F465 = []\n",
    "    for lst in filtered_iso:\n",
    "        small_lst = []\n",
    "        for i in range(0, min2, N):\n",
    "            small_lst.append(np.mean(lst[i:i+N-1])) # This is the moving window mean\n",
    "        F405.append(small_lst)\n",
    "\n",
    "    for lst in filtered_grbda: \n",
    "        small_lst = []\n",
    "        for i in range(0, min1, N):\n",
    "            small_lst.append(np.mean(lst[i:i+N-1]))\n",
    "        F465.append(small_lst)\n",
    "\n",
    "\n",
    "    #Create a mean signal, standard error of signal, and DC offset\n",
    "    mean_iso = np.mean(F405, axis=0)\n",
    "    std_iso = np.std(F405, axis=0)/np.sqrt(len(filtered_iso))\n",
    "    dc_iso = np.mean(mean_iso)\n",
    "    mean_gfp = np.mean(F465, axis=0)\n",
    "    std_gfp = np.std(F465, axis=0)/np.sqrt(len(filtered_grbda))\n",
    "    dc_gfp = np.mean(mean_gfp)\n",
    "\n",
    "    # Create the time vector for each stream store\n",
    "    gfp_vec = TRANGE[0] + np.linspace(1, len(mean_gfp), len(mean_gfp))/gfp.fs*N\n",
    "    iso_vec = TRANGE[0] + np.linspace(1, len(mean_iso), len(mean_iso))/iso.fs*N\n",
    "\n",
    "    # Subtract DC offset to get signals on top of one another\n",
    "    mean_iso = mean_iso - dc_iso\n",
    "    mean_gfp = mean_gfp - dc_gfp\n",
    "    \n",
    "    return mean_iso, mean_gfp, iso_vec, gfp_vec, std_iso, std_gfp\n",
    "\n"
   ]
  },
  {
   "cell_type": "code",
   "execution_count": null,
   "metadata": {},
   "outputs": [],
   "source": [
    "# # Start making a figure with 4 subplots\n",
    "# ax0 = fig.add_subplot(5, 1, idx+1)\n",
    "\n",
    "# # Plotting the traces\n",
    "# p1, = ax0.plot(ts1, mean_gfp, linewidth=2, color='green', label='GrbDA')\n",
    "# p2, = ax0.plot(ts2, mean_iso, linewidth=2, color='blueviolet', label='ISO')\n",
    "\n",
    "# # Plotting standard error bands\n",
    "# p3 = ax0.fill_between(ts1, mean_gfp+std_gfp, mean_gfp-std_gfp,\n",
    "#                         facecolor='green', alpha=0.2)\n",
    "# #p4 = ax0.fill_between(ts2, mean_iso+std_iso, mean_iso-std_iso,\n",
    "#     #                     facecolor='blueviolet', alpha=0.2)\n",
    "\n",
    "# # Plotting a line at t = 0 and t = 10\n",
    "# p5 = ax0.axvline(x=0, linewidth=3, color='slategray', label='Cue Onset')\n",
    "# p6 = ax0.axvline(x=10, linewidth=3, color='lightblue', label='Reward Delivery')\n",
    "\n",
    "# # Finish up the plot\n",
    "# ax0.set_xlabel('Seconds')\n",
    "# ax0.set_ylabel('Signal (mV)')\n",
    "# ax0.set_title('GFPG vs ISOS')\n",
    "# ax0.legend(handles=[p1, p2, p5, p6], loc='upper right')\n",
    "# # to set range based on minimum and maximum values in sample. created graphs with huge ranges\n",
    "# # ax0.set_ylim(min(np.min(mean_gfp-std_gfp), np.min(mean_iso-std_iso)),\n",
    "# #             max(np.max(mean_gfp+std_gfp), np.max(mean_iso+std_iso)))\n",
    "# ax0.set_ylim(ymin,\n",
    "#                 ymax)\n",
    "# ax0.set_xlim(TRANGE[0], TRANGE[1]+TRANGE[0])"
   ]
  }
 ],
 "metadata": {
  "kernelspec": {
   "display_name": ".venv",
   "language": "python",
   "name": "python3"
  },
  "language_info": {
   "codemirror_mode": {
    "name": "ipython",
    "version": 3
   },
   "file_extension": ".py",
   "mimetype": "text/x-python",
   "name": "python",
   "nbconvert_exporter": "python",
   "pygments_lexer": "ipython3",
   "version": "3.12.2"
  }
 },
 "nbformat": 4,
 "nbformat_minor": 2
}
